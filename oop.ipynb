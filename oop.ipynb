{
 "cells": [
  {
   "cell_type": "code",
   "execution_count": 1,
   "id": "3fcbc01a",
   "metadata": {},
   "outputs": [
    {
     "name": "stdout",
     "output_type": "stream",
     "text": [
      "hello peter\n"
     ]
    }
   ],
   "source": [
    "class Hello:            #class\n",
    "    print(\"hello peter\")\n",
    "    \n",
    "obj=Hello()         #objecb"
   ]
  },
  {
   "cell_type": "code",
   "execution_count": 2,
   "id": "bdd1ec73",
   "metadata": {},
   "outputs": [
    {
     "name": "stdout",
     "output_type": "stream",
     "text": [
      "200\n"
     ]
    }
   ],
   "source": [
    "class Hello:\n",
    "    a=10\n",
    "    b=20\n",
    "    print(a*b)\n",
    "obj=Hello()"
   ]
  },
  {
   "cell_type": "code",
   "execution_count": 6,
   "id": "6848ee8a",
   "metadata": {},
   "outputs": [
    {
     "name": "stdout",
     "output_type": "stream",
     "text": [
      "hello peter\n"
     ]
    }
   ],
   "source": [
    "class Hello:   #class\n",
    "    @staticmethod\n",
    "    def hello():                   #method\n",
    "        print(\"hello peter\")\n",
    "obj=Hello()                 #object\n",
    "obj.hello()"
   ]
  },
  {
   "cell_type": "code",
   "execution_count": 7,
   "id": "2e08814e",
   "metadata": {},
   "outputs": [
    {
     "name": "stdout",
     "output_type": "stream",
     "text": [
      "hello peter\n"
     ]
    }
   ],
   "source": [
    "class Hello:   #class\n",
    "    def hello(self):                   #method\n",
    "        print(\"hello peter\")\n",
    "obj=Hello()                 #object\n",
    "obj.hello()"
   ]
  },
  {
   "cell_type": "code",
   "execution_count": 8,
   "id": "81558489",
   "metadata": {},
   "outputs": [
    {
     "name": "stdout",
     "output_type": "stream",
     "text": [
      "enter p= 1000\n",
      "enter t= 1\n",
      "enter r= 3\n",
      "30.0\n"
     ]
    }
   ],
   "source": [
    "class Cal:\n",
    "    def cal(self,p,t,r):\n",
    "        i=p*t*r/100\n",
    "        print(i)\n",
    "p=int(input(\"enter p= \"))\n",
    "t=float(input(\"enter t= \"))\n",
    "r=float(input(\"enter r= \"))\n",
    "obj=Cal()\n",
    "obj.cal(p,t,r)\n",
    "        "
   ]
  },
  {
   "cell_type": "code",
   "execution_count": 9,
   "id": "b26c303a",
   "metadata": {},
   "outputs": [
    {
     "name": "stdout",
     "output_type": "stream",
     "text": [
      "enter l= 100\n",
      "enter b= 20\n",
      "enter h= 10\n",
      "2000.0\n",
      "20000.0\n"
     ]
    }
   ],
   "source": [
    "class Cal:\n",
    "    def area(self,l,b):\n",
    "        a=l*b\n",
    "        print(a)\n",
    "    def volume(self,l,b,h):\n",
    "        v=l*b*h\n",
    "        print(v)\n",
    "        \n",
    "l=int(input(\"enter l= \"))\n",
    "b=float(input(\"enter b= \"))\n",
    "h=float(input(\"enter h= \"))\n",
    "obj=Cal()\n",
    "obj.area(l,b)\n",
    "obj.volume(l,b,h)"
   ]
  },
  {
   "cell_type": "code",
   "execution_count": 16,
   "id": "ada9f7db",
   "metadata": {},
   "outputs": [
    {
     "name": "stdout",
     "output_type": "stream",
     "text": [
      "enter p= 1000\n",
      "enter t= 2\n",
      "enter r= 2\n",
      "40.0\n"
     ]
    }
   ],
   "source": [
    "class Cal:\n",
    "    def __init__(self,p,t,r):\n",
    "        self.p=p\n",
    "        self.t=t\n",
    "        self.r=r\n",
    "    def cal(self):\n",
    "        i=self.p*self.t*self.r/100\n",
    "        print(i)\n",
    "p=int(input(\"enter p= \"))\n",
    "t=float(input(\"enter t= \"))\n",
    "r=float(input(\"enter r= \"))\n",
    "obj=Cal(p,t,r)\n",
    "obj.cal()"
   ]
  },
  {
   "cell_type": "code",
   "execution_count": 19,
   "id": "d45ba02d",
   "metadata": {},
   "outputs": [
    {
     "name": "stdout",
     "output_type": "stream",
     "text": [
      "enter l= 10\n",
      "enter b= 2\n",
      "enter h= 2\n",
      "20.0\n",
      "40.0\n"
     ]
    }
   ],
   "source": [
    "class Cal:\n",
    "    def __init__ (self,l,b,h):\n",
    "        self.l=l\n",
    "        self.b=b\n",
    "        self.h=h\n",
    "    \n",
    "    def area(self):\n",
    "        a=self.l*self.b\n",
    "        print(a)\n",
    "    def volume(self):\n",
    "        v=self.l*self.b*self.h\n",
    "        print(v)\n",
    "        \n",
    "l=int(input(\"enter l= \"))\n",
    "b=float(input(\"enter b= \"))\n",
    "h=float(input(\"enter h= \"))\n",
    "obj=Cal(l,b,h)\n",
    "obj.area()\n",
    "obj.volume()"
   ]
  },
  {
   "cell_type": "code",
   "execution_count": null,
   "id": "9519a90c",
   "metadata": {},
   "outputs": [],
   "source": []
  }
 ],
 "metadata": {
  "kernelspec": {
   "display_name": "Python 3",
   "language": "python",
   "name": "python3"
  },
  "language_info": {
   "codemirror_mode": {
    "name": "ipython",
    "version": 3
   },
   "file_extension": ".py",
   "mimetype": "text/x-python",
   "name": "python",
   "nbconvert_exporter": "python",
   "pygments_lexer": "ipython3",
   "version": "3.8.8"
  }
 },
 "nbformat": 4,
 "nbformat_minor": 5
}
