{
 "cells": [
  {
   "cell_type": "code",
   "execution_count": 1,
   "id": "56198470",
   "metadata": {},
   "outputs": [
    {
     "name": "stdout",
     "output_type": "stream",
     "text": [
      "10\n",
      "10.5\n",
      "hello world\n",
      "True\n"
     ]
    }
   ],
   "source": [
    "a=10\n",
    "b=10.5\n",
    "c=\"hello world\"\n",
    "d=True\n",
    "\n",
    "print(a)\n",
    "print(b)\n",
    "print(c)\n",
    "print(d)"
   ]
  },
  {
   "cell_type": "code",
   "execution_count": 3,
   "id": "05c9d437",
   "metadata": {},
   "outputs": [
    {
     "name": "stdout",
     "output_type": "stream",
     "text": [
      "<class 'int'>\n",
      "<class 'float'>\n",
      "<class 'str'>\n",
      "<class 'bool'>\n"
     ]
    }
   ],
   "source": [
    "print(type(a))\n",
    "print(type(b))\n",
    "print(type(c))\n",
    "print(type(d))"
   ]
  },
  {
   "cell_type": "code",
   "execution_count": 4,
   "id": "48b0dd23",
   "metadata": {},
   "outputs": [
    {
     "name": "stdout",
     "output_type": "stream",
     "text": [
      "(10, 20)\n"
     ]
    }
   ],
   "source": [
    "a=10,20\n",
    "print(a)"
   ]
  },
  {
   "cell_type": "code",
   "execution_count": 6,
   "id": "fd872629",
   "metadata": {},
   "outputs": [
    {
     "name": "stdout",
     "output_type": "stream",
     "text": [
      "10\n",
      "20\n"
     ]
    }
   ],
   "source": [
    "a,b=10,20\n",
    "print(a)\n",
    "print(b)"
   ]
  },
  {
   "cell_type": "code",
   "execution_count": 7,
   "id": "65639a22",
   "metadata": {},
   "outputs": [],
   "source": [
    "# + - * / ** // %"
   ]
  },
  {
   "cell_type": "code",
   "execution_count": 14,
   "id": "8504205f",
   "metadata": {},
   "outputs": [
    {
     "name": "stdout",
     "output_type": "stream",
     "text": [
      "1\n"
     ]
    }
   ],
   "source": [
    "a=10\n",
    "b=3\n",
    "c=a%b\n",
    "print(c)"
   ]
  },
  {
   "cell_type": "code",
   "execution_count": 9,
   "id": "2da1030a",
   "metadata": {},
   "outputs": [
    {
     "name": "stdout",
     "output_type": "stream",
     "text": [
      "200\n"
     ]
    }
   ],
   "source": [
    "a=20\n",
    "b=10\n",
    "c=a*b\n",
    "print(c)"
   ]
  },
  {
   "cell_type": "code",
   "execution_count": 7,
   "id": "ce1f1769",
   "metadata": {},
   "outputs": [
    {
     "name": "stdout",
     "output_type": "stream",
     "text": [
      "6\n"
     ]
    }
   ],
   "source": [
    "a=1\n",
    "b=2\n",
    "c=3\n",
    "d=a+b+c\n",
    "print(d)\n"
   ]
  },
  {
   "cell_type": "code",
   "execution_count": 8,
   "id": "36186ea4",
   "metadata": {},
   "outputs": [
    {
     "name": "stdout",
     "output_type": "stream",
     "text": [
      "8\n"
     ]
    }
   ],
   "source": [
    "a=2\n",
    "b=2\n",
    "c=2\n",
    "d=a*b*c\n",
    "print(d)"
   ]
  },
  {
   "cell_type": "code",
   "execution_count": 11,
   "id": "38858982",
   "metadata": {},
   "outputs": [
    {
     "name": "stdout",
     "output_type": "stream",
     "text": [
      "hello peter\n",
      "<class 'str'>\n"
     ]
    }
   ],
   "source": [
    "print(\"hello peter\")\n",
    "print(type(\"hello peter\"))\n"
   ]
  },
  {
   "cell_type": "code",
   "execution_count": 12,
   "id": "8ea2cf65",
   "metadata": {},
   "outputs": [
    {
     "name": "stdout",
     "output_type": "stream",
     "text": [
      "1000\n"
     ]
    }
   ],
   "source": [
    "item1=200\n",
    "item2=100\n",
    "item3=150\n",
    "item4=400\n",
    "item5=350\n",
    "d=item1*2+item3*4\n",
    "print(d)"
   ]
  },
  {
   "cell_type": "code",
   "execution_count": 13,
   "id": "5a32fead",
   "metadata": {},
   "outputs": [
    {
     "name": "stdout",
     "output_type": "stream",
     "text": [
      "7000\n"
     ]
    }
   ],
   "source": [
    "admission=1000\n",
    "payment=15000\n",
    "paid=7000\n",
    "remaining=payment-admission-paid\n",
    "print(remaining)"
   ]
  },
  {
   "cell_type": "code",
   "execution_count": 18,
   "id": "6de0f400",
   "metadata": {},
   "outputs": [
    {
     "name": "stdout",
     "output_type": "stream",
     "text": [
      "11650\n",
      "12350\n",
      "-3150\n"
     ]
    }
   ],
   "source": [
    "#tour\n",
    "ravi=24000\n",
    "sagar=8500\n",
    "travling=2000+1600+2000\n",
    "khana=150+300+300+300+600+400\n",
    "extra=4000\n",
    "totalexpen=travling+khana+extra\n",
    "print(totalexpen)\n",
    "raviexpen=ravi-totalexpen\n",
    "print(raviexpen)\n",
    "sagarexpen=sagar-totalexpen\n",
    "print(sagarexpen)"
   ]
  },
  {
   "cell_type": "code",
   "execution_count": 21,
   "id": "9932da4d",
   "metadata": {},
   "outputs": [
    {
     "name": "stdout",
     "output_type": "stream",
     "text": [
      "2.1818181818181817\n",
      "2.0\n"
     ]
    }
   ],
   "source": [
    "bikea=55\n",
    "bikeb=60\n",
    "distance=120\n",
    "timetakena=distance/bikea\n",
    "timetakenb=distance/bikeb \n",
    "print(timetakena)\n",
    "print(timetakenb)"
   ]
  },
  {
   "cell_type": "code",
   "execution_count": 22,
   "id": "3199a1f4",
   "metadata": {},
   "outputs": [
    {
     "name": "stdout",
     "output_type": "stream",
     "text": [
      "85000\n"
     ]
    }
   ],
   "source": [
    "oneplus9=55000\n",
    "iphone12=oneplus9+30000\n",
    "print(iphone12)"
   ]
  },
  {
   "cell_type": "code",
   "execution_count": 25,
   "id": "89d700ea",
   "metadata": {},
   "outputs": [
    {
     "name": "stdout",
     "output_type": "stream",
     "text": [
      "1408333.3333333335\n"
     ]
    }
   ],
   "source": [
    "annualsalary=130000\n",
    "permonth=130000/12\n",
    "nepaliconv=permonth*130\n",
    "print(nepaliconv)"
   ]
  },
  {
   "cell_type": "code",
   "execution_count": 30,
   "id": "83078225",
   "metadata": {},
   "outputs": [
    {
     "name": "stdout",
     "output_type": "stream",
     "text": [
      "108000\n",
      "14040000\n"
     ]
    }
   ],
   "source": [
    "#hourlyjob\n",
    "onehr=50\n",
    "sixhr=50*6\n",
    "perday=sixhr\n",
    "permonth=perday*30\n",
    "peryear=permonth*12\n",
    "print(peryear)\n",
    "nepconv=peryear*130\n",
    "print(nepconv)"
   ]
  },
  {
   "cell_type": "code",
   "execution_count": 31,
   "id": "5b3696c3",
   "metadata": {},
   "outputs": [
    {
     "name": "stdout",
     "output_type": "stream",
     "text": [
      "10\n",
      "10\n"
     ]
    }
   ],
   "source": [
    "a=input()\n",
    "print(a)"
   ]
  },
  {
   "cell_type": "code",
   "execution_count": null,
   "id": "2202141d",
   "metadata": {},
   "outputs": [],
   "source": [
    "a=input(\"enter a=\")\n",
    "print(a)\n",
    "print(type(a))"
   ]
  },
  {
   "cell_type": "code",
   "execution_count": 26,
   "id": "2a9f1ca8",
   "metadata": {},
   "outputs": [
    {
     "name": "stdout",
     "output_type": "stream",
     "text": [
      "enter a= 10\n",
      "10\n",
      "<class 'int'>\n"
     ]
    }
   ],
   "source": [
    "a=int(input(\"enter a= \"))\n",
    "print(a)\n",
    "print(type(a))"
   ]
  },
  {
   "cell_type": "code",
   "execution_count": 2,
   "id": "6b941654",
   "metadata": {},
   "outputs": [
    {
     "name": "stdout",
     "output_type": "stream",
     "text": [
      "enter p= 12000\n",
      "enter t= 2\n",
      "enter r= 2.5\n",
      "the value of i= 600.0\n"
     ]
    }
   ],
   "source": [
    "p=float(input(\"enter p= \"))\n",
    "t=float(input(\"enter t= \"))\n",
    "r=float(input(\"enter r= \"))\n",
    "i=p*t*r/100\n",
    "print(\"the value of i=\",i)"
   ]
  },
  {
   "cell_type": "code",
   "execution_count": 3,
   "id": "5723a642",
   "metadata": {},
   "outputs": [
    {
     "name": "stdout",
     "output_type": "stream",
     "text": [
      "enter a= 10\n",
      "enter b= 20\n",
      "1020\n"
     ]
    }
   ],
   "source": [
    "a=input(\"enter a= \")\n",
    "b=input(\"enter b= \")\n",
    "c=a+b\n",
    "print(c)"
   ]
  },
  {
   "cell_type": "code",
   "execution_count": 4,
   "id": "910836aa",
   "metadata": {},
   "outputs": [
    {
     "data": {
      "text/plain": [
       "'10'"
      ]
     },
     "execution_count": 4,
     "metadata": {},
     "output_type": "execute_result"
    }
   ],
   "source": [
    "#typecasting\n",
    "a=10\n",
    "b=str(10)\n",
    "b\n"
   ]
  },
  {
   "cell_type": "code",
   "execution_count": 6,
   "id": "7ed45a64",
   "metadata": {},
   "outputs": [
    {
     "data": {
      "text/plain": [
       "10"
      ]
     },
     "execution_count": 6,
     "metadata": {},
     "output_type": "execute_result"
    }
   ],
   "source": [
    "a=\"10\"\n",
    "b=int(a)\n",
    "b"
   ]
  },
  {
   "cell_type": "code",
   "execution_count": 7,
   "id": "cc36733d",
   "metadata": {},
   "outputs": [
    {
     "data": {
      "text/plain": [
       "10"
      ]
     },
     "execution_count": 7,
     "metadata": {},
     "output_type": "execute_result"
    }
   ],
   "source": [
    "a=10.55\n",
    "b=int(a)\n",
    "b"
   ]
  },
  {
   "cell_type": "code",
   "execution_count": 14,
   "id": "49fab7cd",
   "metadata": {},
   "outputs": [
    {
     "data": {
      "text/plain": [
       "'hello peter'"
      ]
     },
     "execution_count": 14,
     "metadata": {},
     "output_type": "execute_result"
    }
   ],
   "source": [
    "a=\"hello \"\n",
    "b=\"peter\"\n",
    "c=a+b\n",
    "c"
   ]
  },
  {
   "cell_type": "code",
   "execution_count": 12,
   "id": "1dca58d2",
   "metadata": {},
   "outputs": [
    {
     "name": "stdout",
     "output_type": "stream",
     "text": [
      "hello world iam python\n",
      "hello world iam python\n",
      "\n"
     ]
    }
   ],
   "source": [
    "a=\"hello world iam python\\n\"\n",
    "print(a*2)"
   ]
  },
  {
   "cell_type": "code",
   "execution_count": 20,
   "id": "38a9fea6",
   "metadata": {},
   "outputs": [
    {
     "name": "stdout",
     "output_type": "stream",
     "text": [
      "hello10\n"
     ]
    }
   ],
   "source": [
    "a=\"hello\"\n",
    "b=str(10)\n",
    "c=a+str(b)\n",
    "print(c)"
   ]
  },
  {
   "cell_type": "code",
   "execution_count": 34,
   "id": "a933e24b",
   "metadata": {},
   "outputs": [
    {
     "ename": "KeyboardInterrupt",
     "evalue": "Interrupted by user",
     "output_type": "error",
     "traceback": [
      "\u001b[1;31m---------------------------------------------------------------------------\u001b[0m",
      "\u001b[1;31mKeyboardInterrupt\u001b[0m                         Traceback (most recent call last)",
      "\u001b[1;32m<ipython-input-34-92697aeec50e>\u001b[0m in \u001b[0;36m<module>\u001b[1;34m\u001b[0m\n\u001b[1;32m----> 1\u001b[1;33m \u001b[0mname\u001b[0m\u001b[1;33m=\u001b[0m\u001b[0minput\u001b[0m\u001b[1;33m(\u001b[0m\u001b[1;34m\"enter your name= \"\u001b[0m\u001b[1;33m)\u001b[0m\u001b[1;33m\u001b[0m\u001b[1;33m\u001b[0m\u001b[0m\n\u001b[0m\u001b[0;32m      2\u001b[0m \u001b[0mage\u001b[0m\u001b[1;33m=\u001b[0m\u001b[0mint\u001b[0m\u001b[1;33m(\u001b[0m\u001b[0minput\u001b[0m\u001b[1;33m(\u001b[0m\u001b[1;34m\"enter your age= \"\u001b[0m\u001b[1;33m)\u001b[0m\u001b[1;33m)\u001b[0m\u001b[1;33m\u001b[0m\u001b[1;33m\u001b[0m\u001b[0m\n\u001b[0;32m      3\u001b[0m \u001b[0madd\u001b[0m\u001b[1;33m=\u001b[0m\u001b[0minput\u001b[0m\u001b[1;33m(\u001b[0m\u001b[1;34m\"enter your address=\"\u001b[0m\u001b[1;33m)\u001b[0m\u001b[1;33m\u001b[0m\u001b[1;33m\u001b[0m\u001b[0m\n\u001b[0;32m      4\u001b[0m \u001b[0minfo\u001b[0m\u001b[1;33m=\u001b[0m\u001b[1;34m\"hello world iam\\n \"\u001b[0m\u001b[1;33m+\u001b[0m\u001b[0mname\u001b[0m\u001b[1;33m+\u001b[0m\u001b[1;34m\" from \"\u001b[0m\u001b[1;33m+\u001b[0m \u001b[0madd\u001b[0m \u001b[1;33m+\u001b[0m\u001b[1;34m\" iam \"\u001b[0m\u001b[1;33m+\u001b[0m\u001b[0mstr\u001b[0m\u001b[1;33m(\u001b[0m\u001b[0mage\u001b[0m\u001b[1;33m)\u001b[0m\u001b[1;33m\u001b[0m\u001b[1;33m\u001b[0m\u001b[0m\n\u001b[0;32m      5\u001b[0m \u001b[0mprint\u001b[0m\u001b[1;33m(\u001b[0m\u001b[0minfo\u001b[0m\u001b[1;33m)\u001b[0m\u001b[1;33m\u001b[0m\u001b[1;33m\u001b[0m\u001b[0m\n",
      "\u001b[1;32m~\\anaconda3\\lib\\site-packages\\ipykernel\\kernelbase.py\u001b[0m in \u001b[0;36mraw_input\u001b[1;34m(self, prompt)\u001b[0m\n\u001b[0;32m    858\u001b[0m                 \u001b[1;34m\"raw_input was called, but this frontend does not support input requests.\"\u001b[0m\u001b[1;33m\u001b[0m\u001b[1;33m\u001b[0m\u001b[0m\n\u001b[0;32m    859\u001b[0m             )\n\u001b[1;32m--> 860\u001b[1;33m         return self._input_request(str(prompt),\n\u001b[0m\u001b[0;32m    861\u001b[0m             \u001b[0mself\u001b[0m\u001b[1;33m.\u001b[0m\u001b[0m_parent_ident\u001b[0m\u001b[1;33m,\u001b[0m\u001b[1;33m\u001b[0m\u001b[1;33m\u001b[0m\u001b[0m\n\u001b[0;32m    862\u001b[0m             \u001b[0mself\u001b[0m\u001b[1;33m.\u001b[0m\u001b[0m_parent_header\u001b[0m\u001b[1;33m,\u001b[0m\u001b[1;33m\u001b[0m\u001b[1;33m\u001b[0m\u001b[0m\n",
      "\u001b[1;32m~\\anaconda3\\lib\\site-packages\\ipykernel\\kernelbase.py\u001b[0m in \u001b[0;36m_input_request\u001b[1;34m(self, prompt, ident, parent, password)\u001b[0m\n\u001b[0;32m    902\u001b[0m             \u001b[1;32mexcept\u001b[0m \u001b[0mKeyboardInterrupt\u001b[0m\u001b[1;33m:\u001b[0m\u001b[1;33m\u001b[0m\u001b[1;33m\u001b[0m\u001b[0m\n\u001b[0;32m    903\u001b[0m                 \u001b[1;31m# re-raise KeyboardInterrupt, to truncate traceback\u001b[0m\u001b[1;33m\u001b[0m\u001b[1;33m\u001b[0m\u001b[1;33m\u001b[0m\u001b[0m\n\u001b[1;32m--> 904\u001b[1;33m                 \u001b[1;32mraise\u001b[0m \u001b[0mKeyboardInterrupt\u001b[0m\u001b[1;33m(\u001b[0m\u001b[1;34m\"Interrupted by user\"\u001b[0m\u001b[1;33m)\u001b[0m \u001b[1;32mfrom\u001b[0m \u001b[1;32mNone\u001b[0m\u001b[1;33m\u001b[0m\u001b[1;33m\u001b[0m\u001b[0m\n\u001b[0m\u001b[0;32m    905\u001b[0m             \u001b[1;32mexcept\u001b[0m \u001b[0mException\u001b[0m \u001b[1;32mas\u001b[0m \u001b[0me\u001b[0m\u001b[1;33m:\u001b[0m\u001b[1;33m\u001b[0m\u001b[1;33m\u001b[0m\u001b[0m\n\u001b[0;32m    906\u001b[0m                 \u001b[0mself\u001b[0m\u001b[1;33m.\u001b[0m\u001b[0mlog\u001b[0m\u001b[1;33m.\u001b[0m\u001b[0mwarning\u001b[0m\u001b[1;33m(\u001b[0m\u001b[1;34m\"Invalid Message:\"\u001b[0m\u001b[1;33m,\u001b[0m \u001b[0mexc_info\u001b[0m\u001b[1;33m=\u001b[0m\u001b[1;32mTrue\u001b[0m\u001b[1;33m)\u001b[0m\u001b[1;33m\u001b[0m\u001b[1;33m\u001b[0m\u001b[0m\n",
      "\u001b[1;31mKeyboardInterrupt\u001b[0m: Interrupted by user"
     ]
    }
   ],
   "source": [
    "name=input(\"enter your name= \")\n",
    "age=int(input(\"enter your age= \"))\n",
    "add=input(\"enter your address=\")\n",
    "info=\"hello world iam\\n \"+name+\" from \"+ add +\" iam \"+str(age)\n",
    "print(info)\n"
   ]
  },
  {
   "cell_type": "code",
   "execution_count": 31,
   "id": "aa67728d",
   "metadata": {},
   "outputs": [
    {
     "name": "stdout",
     "output_type": "stream",
     "text": [
      "enter your name=ravi\n",
      "enter your phone no= 9819615996\n",
      "enter your address= ktm\n",
      "enter your age24\n",
      "ravi9819615996ktm24\n"
     ]
    }
   ],
   "source": [
    "name=input(\"enter your name=\")\n",
    "phone_no=int(input(\"enter your phone no= \"))\n",
    "address=input(\"enter your address= \")\n",
    "age=int(input(\"enter your age\"))\n",
    "info=name+str(phone_no)+address+str(age)\n",
    "print(info)"
   ]
  },
  {
   "cell_type": "code",
   "execution_count": 35,
   "id": "2d7b5bc3",
   "metadata": {},
   "outputs": [
    {
     "name": "stdout",
     "output_type": "stream",
     "text": [
      "0\n"
     ]
    }
   ],
   "source": [
    "#bollen\n",
    "a=True\n",
    "b=False\n",
    "c=a*b\n",
    "print(c)"
   ]
  },
  {
   "cell_type": "code",
   "execution_count": 36,
   "id": "ebfb9701",
   "metadata": {},
   "outputs": [
    {
     "data": {
      "text/plain": [
       "3"
      ]
     },
     "execution_count": 36,
     "metadata": {},
     "output_type": "execute_result"
    }
   ],
   "source": [
    "True+True+True"
   ]
  },
  {
   "cell_type": "code",
   "execution_count": 37,
   "id": "4abbfaeb",
   "metadata": {},
   "outputs": [
    {
     "data": {
      "text/plain": [
       "2"
      ]
     },
     "execution_count": 37,
     "metadata": {},
     "output_type": "execute_result"
    }
   ],
   "source": [
    "True+False+True"
   ]
  },
  {
   "cell_type": "code",
   "execution_count": 40,
   "id": "029c8800",
   "metadata": {},
   "outputs": [
    {
     "name": "stdout",
     "output_type": "stream",
     "text": [
      "<class 'complex'>\n"
     ]
    }
   ],
   "source": [
    "a=2+4j\n",
    "print(type(a))"
   ]
  },
  {
   "cell_type": "code",
   "execution_count": 43,
   "id": "16135981",
   "metadata": {},
   "outputs": [
    {
     "name": "stdout",
     "output_type": "stream",
     "text": [
      "(-0.06480721937782949-0.34669206716160395j)\n"
     ]
    }
   ],
   "source": [
    "a=2+4j\n",
    "b=3+5j\n",
    "c=a**b\n",
    "print(c)"
   ]
  },
  {
   "cell_type": "code",
   "execution_count": 1,
   "id": "d7d7ade8",
   "metadata": {},
   "outputs": [
    {
     "name": "stdout",
     "output_type": "stream",
     "text": [
      "enter your nameravi\n",
      "enter your age24\n",
      "enter your addressktm\n",
      "ravi24ktm\n"
     ]
    }
   ],
   "source": [
    "name=input(\"enter your name\")\n",
    "age=int(input(\"enter your age\"))\n",
    "adrs=input(\"enter your address\")\n",
    "info=name+str(age)+adrs\n",
    "print(info)"
   ]
  },
  {
   "cell_type": "code",
   "execution_count": null,
   "id": "a737b8e1",
   "metadata": {},
   "outputs": [],
   "source": [
    "#if<condition>:\n",
    " #   <operation>\n",
    "#elif<condition>:\n",
    "#    <operation>\n",
    "#....\n",
    "#else:\n",
    " #   <operation>\n",
    "    "
   ]
  },
  {
   "cell_type": "code",
   "execution_count": null,
   "id": "85978ad6",
   "metadata": {},
   "outputs": [],
   "source": [
    "< > = <= >= == !="
   ]
  },
  {
   "cell_type": "code",
   "execution_count": 4,
   "id": "87289d11",
   "metadata": {},
   "outputs": [
    {
     "data": {
      "text/plain": [
       "True"
      ]
     },
     "execution_count": 4,
     "metadata": {},
     "output_type": "execute_result"
    }
   ],
   "source": [
    "a=10\n",
    "b=12\n",
    "a<b"
   ]
  },
  {
   "cell_type": "code",
   "execution_count": 12,
   "id": "408d70ea",
   "metadata": {},
   "outputs": [
    {
     "name": "stdout",
     "output_type": "stream",
     "text": [
      "enter n= 10\n",
      "enter a= 10\n",
      "a and n are equal \n"
     ]
    }
   ],
   "source": [
    "n=int(input(\"enter n= \"))\n",
    "a=int(input(\"enter a= \"))\n",
    "if a>n:\n",
    "    print(\"a is greater\")\n",
    "elif n>a:\n",
    "    print(n,\"is greater\")\n",
    "    \n",
    "else:\n",
    "    print(\"a and n are equal \")"
   ]
  },
  {
   "cell_type": "code",
   "execution_count": 10,
   "id": "513f6182",
   "metadata": {},
   "outputs": [
    {
     "name": "stdout",
     "output_type": "stream",
     "text": [
      "enter n=11\n",
      "11 it is odd\n"
     ]
    }
   ],
   "source": [
    "n=int(input(\"enter n=\"))\n",
    "if n%2==0:\n",
    "    print(n,\"it is even\")\n",
    "else:\n",
    "    print(n,\"it is odd\")"
   ]
  },
  {
   "cell_type": "code",
   "execution_count": 15,
   "id": "03e5a4bb",
   "metadata": {},
   "outputs": [
    {
     "name": "stdout",
     "output_type": "stream",
     "text": [
      "enter the value of a 8\n",
      "enter the value of b 8\n",
      "a and b are equal\n"
     ]
    }
   ],
   "source": [
    "a=int(input(\"enter the value of a \"))\n",
    "b=int(input(\"enter the value of b \"))\n",
    "if a>b:\n",
    "    print(a,\"is greater \")\n",
    "elif a<b:\n",
    "    print(b,\"is greater \")\n",
    "else:\n",
    "    print(\"a and b are equal\")"
   ]
  },
  {
   "cell_type": "code",
   "execution_count": null,
   "id": "1c829492",
   "metadata": {},
   "outputs": [],
   "source": [
    "a=(1,2,3,5,7)\n",
    "b=(4,6,8,9,10)\n",
    "if "
   ]
  },
  {
   "cell_type": "code",
   "execution_count": 17,
   "id": "9d6a7cdc",
   "metadata": {},
   "outputs": [
    {
     "name": "stdout",
     "output_type": "stream",
     "text": [
      "enter marks of physics= 70\n",
      "enter marks of chemestry= 55\n",
      "enter marks of biology= 80\n",
      "enter marks of math= 90\n",
      "enter marks of english= 49\n",
      "total= 344\n",
      "per= 68.8\n",
      "grade= B\n"
     ]
    }
   ],
   "source": [
    "physics=int(input(\"enter marks of physics= \"))\n",
    "chemestry=int(input(\"enter marks of chemestry= \"))\n",
    "biology=int(input(\"enter marks of biology= \"))\n",
    "math=int(input(\"enter marks of math= \"))\n",
    "english=int(input(\"enter marks of english= \"))\n",
    "\n",
    "total=physics+chemestry+biology+math+english\n",
    "per=total/5\n",
    "\n",
    "if per>=80:\n",
    "    grade=\"A\"\n",
    "elif per>=60:\n",
    "    grade=\"B\"\n",
    "elif per>45:\n",
    "    grade=\"C\"\n",
    "else:\n",
    "    grade=\"Fail\"\n",
    "print(\"total=\",total)\n",
    "print(\"per=\",per)\n",
    "print(\"grade=\",grade)\n",
    "\n",
    "    "
   ]
  },
  {
   "cell_type": "code",
   "execution_count": 29,
   "id": "1192f1a6",
   "metadata": {},
   "outputs": [
    {
     "name": "stdout",
     "output_type": "stream",
     "text": [
      "enter value of a=10\n",
      "enter value of b=0\n",
      "enter + - * / /\n",
      "the velue should not be 0\n"
     ]
    }
   ],
   "source": [
    "#basic calculator\n",
    "a=int(input(\"enter value of a=\"))\n",
    "b=int(input(\"enter value of b=\"))\n",
    "o=input(\"enter + - * / \")\n",
    "if o==\"+\":\n",
    "    print(a+b)\n",
    "elif o==\"-\":\n",
    "    print(a-b)\n",
    "elif o==\"*\":\n",
    "    print(a*b)\n",
    "elif o==\"/\"and b!=0:\n",
    "    print(a/b)\n",
    "elif o==\"/\" and b==0:\n",
    "    print(\"the velue of b should not be 0\")\n",
    "else:\n",
    "    print(\"invalid operator\")"
   ]
  },
  {
   "cell_type": "code",
   "execution_count": 26,
   "id": "da3a1f71",
   "metadata": {},
   "outputs": [
    {
     "ename": "SyntaxError",
     "evalue": "cannot assign to operator (<ipython-input-26-7ae9f341db26>, line 2)",
     "output_type": "error",
     "traceback": [
      "\u001b[1;36m  File \u001b[1;32m\"<ipython-input-26-7ae9f341db26>\"\u001b[1;36m, line \u001b[1;32m2\u001b[0m\n\u001b[1;33m    1*0=0\u001b[0m\n\u001b[1;37m    ^\u001b[0m\n\u001b[1;31mSyntaxError\u001b[0m\u001b[1;31m:\u001b[0m cannot assign to operator\n"
     ]
    }
   ],
   "source": [
    "#and - > &\n",
    "#1*0=0\n",
    "#0*1=0\n",
    "#0*0=0\n",
    "#1*1=1"
   ]
  },
  {
   "cell_type": "code",
   "execution_count": 27,
   "id": "ebe27a5a",
   "metadata": {},
   "outputs": [
    {
     "data": {
      "text/plain": [
       "False"
      ]
     },
     "execution_count": 27,
     "metadata": {},
     "output_type": "execute_result"
    }
   ],
   "source": [
    "True and False"
   ]
  },
  {
   "cell_type": "code",
   "execution_count": 28,
   "id": "521a9ec9",
   "metadata": {},
   "outputs": [
    {
     "data": {
      "text/plain": [
       "True"
      ]
     },
     "execution_count": 28,
     "metadata": {},
     "output_type": "execute_result"
    }
   ],
   "source": [
    "False or True"
   ]
  },
  {
   "cell_type": "code",
   "execution_count": null,
   "id": "154c2432",
   "metadata": {},
   "outputs": [],
   "source": [
    "if <condition>:\n",
    "    if<condition>:\n",
    "        <operation>\n",
    "    elif<condition>:\n",
    "        <operation>\n",
    "    else:\n",
    "        <operation>\n",
    "else:\n",
    "    <operation>"
   ]
  },
  {
   "cell_type": "code",
   "execution_count": 27,
   "id": "d4f81fe5",
   "metadata": {},
   "outputs": [
    {
     "name": "stdout",
     "output_type": "stream",
     "text": [
      "enter your marks in physics= 10\n",
      "enter your marks in math=5\n",
      "enter your marks in english= 6\n",
      "enter your marks in bio= 3\n",
      "enter your marks in chem= 1\n",
      "total mark is 25\n",
      "your per is 5.0\n",
      "your grade is Fail\n"
     ]
    }
   ],
   "source": [
    "#sweksha result\n",
    "physics=int(input(\"enter your marks in physics= \"))\n",
    "math=int(input(\"enter your marks in math=\"))\n",
    "english=int(input(\"enter your marks in english= \"))\n",
    "bio=int(input(\"enter your marks in bio= \"))\n",
    "chem=int(input(\"enter your marks in chem= \"))\n",
    "\n",
    "total=physics+math+english+bio+chem\n",
    "per=total/5\n",
    "\n",
    "if per>80:\n",
    "    grade=\"A\"\n",
    "elif per>60:\n",
    "    grade=\"B\"\n",
    "elif per>40:\n",
    "    grade=\"C\"\n",
    "else:\n",
    "    grade=\"Fail\"\n",
    "print(\"total mark is\",total)\n",
    "print(\"your per is\",per)\n",
    "print(\"your grade is\",grade)"
   ]
  },
  {
   "cell_type": "code",
   "execution_count": 30,
   "id": "6d9da268",
   "metadata": {},
   "outputs": [
    {
     "ename": "KeyboardInterrupt",
     "evalue": "Interrupted by user",
     "output_type": "error",
     "traceback": [
      "\u001b[1;31m---------------------------------------------------------------------------\u001b[0m",
      "\u001b[1;31mKeyboardInterrupt\u001b[0m                         Traceback (most recent call last)",
      "\u001b[1;32m<ipython-input-30-81f5d0065e04>\u001b[0m in \u001b[0;36m<module>\u001b[1;34m\u001b[0m\n\u001b[0;32m      1\u001b[0m \u001b[1;31m#basic calculator\u001b[0m\u001b[1;33m\u001b[0m\u001b[1;33m\u001b[0m\u001b[1;33m\u001b[0m\u001b[0m\n\u001b[1;32m----> 2\u001b[1;33m \u001b[0ma\u001b[0m\u001b[1;33m=\u001b[0m\u001b[0mint\u001b[0m\u001b[1;33m(\u001b[0m\u001b[0minput\u001b[0m\u001b[1;33m(\u001b[0m\u001b[1;34m\"enter the value of a= \"\u001b[0m\u001b[1;33m)\u001b[0m\u001b[1;33m)\u001b[0m\u001b[1;33m\u001b[0m\u001b[1;33m\u001b[0m\u001b[0m\n\u001b[0m\u001b[0;32m      3\u001b[0m \u001b[0mb\u001b[0m\u001b[1;33m=\u001b[0m\u001b[0mint\u001b[0m\u001b[1;33m(\u001b[0m\u001b[0minput\u001b[0m\u001b[1;33m(\u001b[0m\u001b[1;34m\"enter the value of b= \"\u001b[0m\u001b[1;33m)\u001b[0m\u001b[1;33m)\u001b[0m\u001b[1;33m\u001b[0m\u001b[1;33m\u001b[0m\u001b[0m\n\u001b[0;32m      4\u001b[0m \u001b[0mo\u001b[0m\u001b[1;33m=\u001b[0m\u001b[0minput\u001b[0m\u001b[1;33m(\u001b[0m\u001b[1;34m\"+ - / *\"\u001b[0m\u001b[1;33m)\u001b[0m\u001b[1;33m\u001b[0m\u001b[1;33m\u001b[0m\u001b[0m\n\u001b[0;32m      5\u001b[0m \u001b[1;32mif\u001b[0m \u001b[0mo\u001b[0m\u001b[1;33m==\u001b[0m\u001b[1;34m\"+\"\u001b[0m\u001b[1;33m:\u001b[0m\u001b[1;33m\u001b[0m\u001b[1;33m\u001b[0m\u001b[0m\n",
      "\u001b[1;32m~\\anaconda3\\lib\\site-packages\\ipykernel\\kernelbase.py\u001b[0m in \u001b[0;36mraw_input\u001b[1;34m(self, prompt)\u001b[0m\n\u001b[0;32m    858\u001b[0m                 \u001b[1;34m\"raw_input was called, but this frontend does not support input requests.\"\u001b[0m\u001b[1;33m\u001b[0m\u001b[1;33m\u001b[0m\u001b[0m\n\u001b[0;32m    859\u001b[0m             )\n\u001b[1;32m--> 860\u001b[1;33m         return self._input_request(str(prompt),\n\u001b[0m\u001b[0;32m    861\u001b[0m             \u001b[0mself\u001b[0m\u001b[1;33m.\u001b[0m\u001b[0m_parent_ident\u001b[0m\u001b[1;33m,\u001b[0m\u001b[1;33m\u001b[0m\u001b[1;33m\u001b[0m\u001b[0m\n\u001b[0;32m    862\u001b[0m             \u001b[0mself\u001b[0m\u001b[1;33m.\u001b[0m\u001b[0m_parent_header\u001b[0m\u001b[1;33m,\u001b[0m\u001b[1;33m\u001b[0m\u001b[1;33m\u001b[0m\u001b[0m\n",
      "\u001b[1;32m~\\anaconda3\\lib\\site-packages\\ipykernel\\kernelbase.py\u001b[0m in \u001b[0;36m_input_request\u001b[1;34m(self, prompt, ident, parent, password)\u001b[0m\n\u001b[0;32m    902\u001b[0m             \u001b[1;32mexcept\u001b[0m \u001b[0mKeyboardInterrupt\u001b[0m\u001b[1;33m:\u001b[0m\u001b[1;33m\u001b[0m\u001b[1;33m\u001b[0m\u001b[0m\n\u001b[0;32m    903\u001b[0m                 \u001b[1;31m# re-raise KeyboardInterrupt, to truncate traceback\u001b[0m\u001b[1;33m\u001b[0m\u001b[1;33m\u001b[0m\u001b[1;33m\u001b[0m\u001b[0m\n\u001b[1;32m--> 904\u001b[1;33m                 \u001b[1;32mraise\u001b[0m \u001b[0mKeyboardInterrupt\u001b[0m\u001b[1;33m(\u001b[0m\u001b[1;34m\"Interrupted by user\"\u001b[0m\u001b[1;33m)\u001b[0m \u001b[1;32mfrom\u001b[0m \u001b[1;32mNone\u001b[0m\u001b[1;33m\u001b[0m\u001b[1;33m\u001b[0m\u001b[0m\n\u001b[0m\u001b[0;32m    905\u001b[0m             \u001b[1;32mexcept\u001b[0m \u001b[0mException\u001b[0m \u001b[1;32mas\u001b[0m \u001b[0me\u001b[0m\u001b[1;33m:\u001b[0m\u001b[1;33m\u001b[0m\u001b[1;33m\u001b[0m\u001b[0m\n\u001b[0;32m    906\u001b[0m                 \u001b[0mself\u001b[0m\u001b[1;33m.\u001b[0m\u001b[0mlog\u001b[0m\u001b[1;33m.\u001b[0m\u001b[0mwarning\u001b[0m\u001b[1;33m(\u001b[0m\u001b[1;34m\"Invalid Message:\"\u001b[0m\u001b[1;33m,\u001b[0m \u001b[0mexc_info\u001b[0m\u001b[1;33m=\u001b[0m\u001b[1;32mTrue\u001b[0m\u001b[1;33m)\u001b[0m\u001b[1;33m\u001b[0m\u001b[1;33m\u001b[0m\u001b[0m\n",
      "\u001b[1;31mKeyboardInterrupt\u001b[0m: Interrupted by user"
     ]
    }
   ],
   "source": [
    "#basic calculator\n",
    "a=int(input(\"enter the value of a= \"))\n",
    "b=int(input(\"enter the value of b= \"))\n",
    "o=input(\"+ - / *\")\n",
    "if o==\"+\":\n",
    "    print(a+b)\n",
    "elif o==\"-\":\n",
    "    print(a-b)\n",
    "elif o==\"*\":\n",
    "    print(a*b)\n",
    "elif o==\"/\"and b!=0:\n",
    "    print(a/b)\n",
    "elif o==\"/\" and b==0:\n",
    "    print(\"the velue of b should not be 0\")\n",
    "else:\n",
    "    print(\"invalid operator\")\n",
    "\n"
   ]
  },
  {
   "cell_type": "code",
   "execution_count": 1,
   "id": "4c65a355",
   "metadata": {},
   "outputs": [
    {
     "name": "stdout",
     "output_type": "stream",
     "text": [
      "enter date= 2079 03 16\n",
      "enter your room rent= 17000\n",
      "enter your current electricity bill= 3007\n",
      "enter your previous electricity bill= 2936\n",
      "852\n",
      "enter motor charge= 200\n",
      "enter water charge=150\n",
      "date=  2079 03 16\n",
      "room rent=  17000\n",
      "electricity_bill=  852\n",
      "motar charge=  200\n",
      "water charge=  150\n",
      "total=  18202\n"
     ]
    }
   ],
   "source": [
    "date=str(input(\"enter date= \"))\n",
    "room_rent=int(input(\"enter your room rent= \"))\n",
    "a=int(input(\"enter your current electricity bill= \"))\n",
    "b=int(input(\"enter your previous electricity bill= \"))\n",
    "c=(a-b)*12\n",
    "print(c)\n",
    "motor=int(input(\"enter motor charge= \"))\n",
    "water=int(input(\"enter water charge=\"))\n",
    "total=room_rent+c+motor+water\n",
    "print(\"date= \",date)\n",
    "print(\"room rent= \",room_rent)\n",
    "print(\"electricity_bill= \",c)\n",
    "print(\"motar charge= \",motor)\n",
    "print(\"water charge= \",water)\n",
    "print(\"total= \",total)"
   ]
  },
  {
   "cell_type": "code",
   "execution_count": 3,
   "id": "a9f32a5a",
   "metadata": {},
   "outputs": [
    {
     "name": "stdout",
     "output_type": "stream",
     "text": [
      "name of staff= ravi\n",
      "post of staff= manager\n",
      "input qualification= +2\n",
      "+2,bachlore+2\n",
      "address of staff= ktm\n",
      "you are rejected\n",
      "name=  ravi\n",
      "post =  manager\n",
      "qualification=  +2\n",
      "address=  ktm\n"
     ]
    }
   ],
   "source": [
    "name=input(\"name of staff= \")\n",
    "post=input(\"post of staff= \")\n",
    "qualification=input(\"input qualification= \")\n",
    "qualify=input(\"+2,bachlore\")\n",
    "address=input(\"address of staff= \")\n",
    "if qualify==\"+2,bachlore\":\n",
    "    print(\" you are hired\")\n",
    "else:\n",
    "    print(\"you are rejected\")\n",
    "print(\"name= \",name)\n",
    "print(\"post = \",post)\n",
    "print(\"qualification= \",qualification)\n",
    "print(\"address= \",address)"
   ]
  },
  {
   "cell_type": "code",
   "execution_count": null,
   "id": "8a9545db",
   "metadata": {},
   "outputs": [],
   "source": [
    "#vechile rent\n",
    "name=input(\"enter your name= \")\n",
    "pn=input(\"enter your pn= \")\n",
    "address=input(\"enter address= \")\n",
    "destination=input(\"enter your destination= \")\n",
    "distance=int(input(\"enter distance= \"))\n",
    "dis=int(input(\"1,2,3,4,5,6,7,8,9,10,12,13,14,15\"))\n",
    "charge=distance*120\n",
    "print(\"name= \",name)\n",
    "print(\"pn= \",pn)\n",
    "print(\"destination= \",destination)\n",
    "print(\"address= \",address)\n",
    "print(\"charge= \",charge)\n",
    "if dis>15:\n",
    "    print(\"you couldnot exceed 15km\")\n",
    "else:\n",
    "    print(\"success\")\n",
    "\n"
   ]
  },
  {
   "cell_type": "code",
   "execution_count": null,
   "id": "4aac9b75",
   "metadata": {},
   "outputs": [],
   "source": []
  }
 ],
 "metadata": {
  "kernelspec": {
   "display_name": "Python 3",
   "language": "python",
   "name": "python3"
  },
  "language_info": {
   "codemirror_mode": {
    "name": "ipython",
    "version": 3
   },
   "file_extension": ".py",
   "mimetype": "text/x-python",
   "name": "python",
   "nbconvert_exporter": "python",
   "pygments_lexer": "ipython3",
   "version": "3.8.8"
  }
 },
 "nbformat": 4,
 "nbformat_minor": 5
}
