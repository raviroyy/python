{
 "cells": [
  {
   "cell_type": "code",
   "execution_count": null,
   "id": "769af8c4",
   "metadata": {},
   "outputs": [],
   "source": [
    "#set\n",
    "#-no indexing\n",
    "#-multiple values\n",
    "#-no duplicate values\n",
    "#-mutable"
   ]
  },
  {
   "cell_type": "code",
   "execution_count": 1,
   "id": "c3df2a4f",
   "metadata": {},
   "outputs": [
    {
     "data": {
      "text/plain": [
       "set"
      ]
     },
     "execution_count": 1,
     "metadata": {},
     "output_type": "execute_result"
    }
   ],
   "source": [
    "a={1,2,3,4}\n",
    "b={\"apple\",\"ball\",\"cat\",\"dog\"}\n",
    "type(a)\n",
    "type(b)"
   ]
  },
  {
   "cell_type": "code",
   "execution_count": 2,
   "id": "9a210850",
   "metadata": {},
   "outputs": [
    {
     "data": {
      "text/plain": [
       "dict"
      ]
     },
     "execution_count": 2,
     "metadata": {},
     "output_type": "execute_result"
    }
   ],
   "source": [
    "a={}\n",
    "type(a)"
   ]
  },
  {
   "cell_type": "code",
   "execution_count": 3,
   "id": "83da64cb",
   "metadata": {},
   "outputs": [
    {
     "name": "stdout",
     "output_type": "stream",
     "text": [
      "{1, 3, 'cat', 5, 'apple', 'dog', 'ball'}\n"
     ]
    }
   ],
   "source": [
    "b={1,\"apple\",\"ball\",3,\"cat\",5,\"dog\"}\n",
    "print(b)"
   ]
  },
  {
   "cell_type": "code",
   "execution_count": 5,
   "id": "56903dfd",
   "metadata": {},
   "outputs": [
    {
     "data": {
      "text/plain": [
       "{1, 2, 3, 4, 5, 'apple', 'ball', 'cat', 'dog'}"
      ]
     },
     "execution_count": 5,
     "metadata": {},
     "output_type": "execute_result"
    }
   ],
   "source": [
    "b={1,\"apple\",\"ball\",3,\"cat\",5,\"dog\",1,2,4}\n",
    "b"
   ]
  },
  {
   "cell_type": "code",
   "execution_count": 6,
   "id": "2e29bbe9",
   "metadata": {},
   "outputs": [
    {
     "data": {
      "text/plain": [
       "[1, 2, 3, 'cat', 5, 4, 'apple', 'dog', 'ball']"
      ]
     },
     "execution_count": 6,
     "metadata": {},
     "output_type": "execute_result"
    }
   ],
   "source": [
    "b={1,\"apple\",\"ball\",3,\"cat\",5,\"dog\",1,2,4}\n",
    "b=list(set(b))\n",
    "b"
   ]
  },
  {
   "cell_type": "code",
   "execution_count": 11,
   "id": "21568f7e",
   "metadata": {},
   "outputs": [
    {
     "data": {
      "text/plain": [
       "{'ram', 'shyam'}"
      ]
     },
     "execution_count": 11,
     "metadata": {},
     "output_type": "execute_result"
    }
   ],
   "source": [
    "a=set()\n",
    "a.add(\"ram\")\n",
    "a.add(\"shyam\")\n",
    "a"
   ]
  },
  {
   "cell_type": "code",
   "execution_count": 12,
   "id": "ba38f49d",
   "metadata": {},
   "outputs": [
    {
     "data": {
      "text/plain": [
       "{1, 2, 3, 4, 5, 'ball', 'cat', 'dog'}"
      ]
     },
     "execution_count": 12,
     "metadata": {},
     "output_type": "execute_result"
    }
   ],
   "source": [
    "a={1, 2, 3, 4, 5, 'apple', 'ball', 'cat', 'dog'}\n",
    "a.remove(\"apple\")\n",
    "a"
   ]
  },
  {
   "cell_type": "code",
   "execution_count": null,
   "id": "b0dcc9dd",
   "metadata": {},
   "outputs": [],
   "source": [
    "#update\n",
    "a=set()\n",
    "a.add(\"ram\")\n",
    "a.add(\"shyam\")\n",
    "a\n"
   ]
  },
  {
   "cell_type": "code",
   "execution_count": 14,
   "id": "ce7878f0",
   "metadata": {},
   "outputs": [
    {
     "data": {
      "text/plain": [
       "{1, 2, 3, 4, 5, 'a', 'apple', 'ball', 'cat', 'dog', 'e', 'l', 'p'}"
      ]
     },
     "execution_count": 14,
     "metadata": {},
     "output_type": "execute_result"
    }
   ],
   "source": [
    "a={1, 2, 3, 4, 5, 'apple', 'ball', 'cat', 'dog'}\n",
    "a.update(\"apple\")\n",
    "a"
   ]
  },
  {
   "cell_type": "code",
   "execution_count": 16,
   "id": "be6a08e9",
   "metadata": {},
   "outputs": [
    {
     "data": {
      "text/plain": [
       "{1, 2, 3, 4, 5, 7, 8, 9, 'apple', 'ball', 'cat', 'dog'}"
      ]
     },
     "execution_count": 16,
     "metadata": {},
     "output_type": "execute_result"
    }
   ],
   "source": [
    "a={1, 2, 3, 4, 5, 'apple', 'ball', 'cat', 'dog'}\n",
    "a.update({7,8,9})\n",
    "a"
   ]
  },
  {
   "cell_type": "code",
   "execution_count": 18,
   "id": "37969707",
   "metadata": {},
   "outputs": [],
   "source": [
    "apple={\"ram\",\"shyam\",\"sita\",\"jef\"}\n",
    "ms={\"ram\",\"ntr\",\"parbhas\",\"nabin\"}"
   ]
  },
  {
   "cell_type": "code",
   "execution_count": 22,
   "id": "0caca126",
   "metadata": {},
   "outputs": [
    {
     "data": {
      "text/plain": [
       "{'jef', 'shyam', 'sita'}"
      ]
     },
     "execution_count": 22,
     "metadata": {},
     "output_type": "execute_result"
    }
   ],
   "source": [
    "#union\n",
    "apple.difference(ms)"
   ]
  },
  {
   "cell_type": "code",
   "execution_count": 23,
   "id": "e590d15e",
   "metadata": {},
   "outputs": [
    {
     "data": {
      "text/plain": [
       "{'nabin', 'ntr', 'parbhas'}"
      ]
     },
     "execution_count": 23,
     "metadata": {},
     "output_type": "execute_result"
    }
   ],
   "source": [
    "ms.difference(apple)"
   ]
  },
  {
   "cell_type": "code",
   "execution_count": 24,
   "id": "df32f478",
   "metadata": {},
   "outputs": [
    {
     "data": {
      "text/plain": [
       "{'jef', 'nabin', 'ntr', 'parbhas', 'ram', 'shyam', 'sita'}"
      ]
     },
     "execution_count": 24,
     "metadata": {},
     "output_type": "execute_result"
    }
   ],
   "source": [
    "apple.union(ms)"
   ]
  },
  {
   "cell_type": "code",
   "execution_count": 25,
   "id": "527c18a7",
   "metadata": {},
   "outputs": [
    {
     "data": {
      "text/plain": [
       "{'ram'}"
      ]
     },
     "execution_count": 25,
     "metadata": {},
     "output_type": "execute_result"
    }
   ],
   "source": [
    "apple.intersection(ms)"
   ]
  },
  {
   "cell_type": "code",
   "execution_count": null,
   "id": "a533fdf7",
   "metadata": {},
   "outputs": [],
   "source": [
    "#list inside set is not possible\n",
    "#dist inside set is not possible\n",
    "#set inside set is not possible"
   ]
  }
 ],
 "metadata": {
  "kernelspec": {
   "display_name": "Python 3",
   "language": "python",
   "name": "python3"
  },
  "language_info": {
   "codemirror_mode": {
    "name": "ipython",
    "version": 3
   },
   "file_extension": ".py",
   "mimetype": "text/x-python",
   "name": "python",
   "nbconvert_exporter": "python",
   "pygments_lexer": "ipython3",
   "version": "3.8.8"
  }
 },
 "nbformat": 4,
 "nbformat_minor": 5
}
