{
 "cells": [
  {
   "cell_type": "code",
   "execution_count": null,
   "id": "b0cc30bb",
   "metadata": {},
   "outputs": [],
   "source": [
    "#dictnory\n",
    "#indexed\n",
    "#ordereed\n",
    "#multiple value\n",
    "#mutable datatype\n"
   ]
  },
  {
   "cell_type": "code",
   "execution_count": null,
   "id": "64a49144",
   "metadata": {},
   "outputs": [],
   "source": [
    "#d={}\n",
    "#d=dict()\n",
    "#={<key>:<value>}\n",
    "}"
   ]
  },
  {
   "cell_type": "code",
   "execution_count": 2,
   "id": "0069960a",
   "metadata": {},
   "outputs": [
    {
     "data": {
      "text/plain": [
       "{'a': 'aeroplane', 'b': 'ball', 'c': 'cat'}"
      ]
     },
     "execution_count": 2,
     "metadata": {},
     "output_type": "execute_result"
    }
   ],
   "source": [
    "d={'a':'apple','b':'ball','c':'cat'}\n",
    "d['a']='aeroplane'\n",
    "d"
   ]
  },
  {
   "cell_type": "code",
   "execution_count": 3,
   "id": "8bbd1ee6",
   "metadata": {},
   "outputs": [
    {
     "data": {
      "text/plain": [
       "{'a': 'apple', 'b': 'ball', 'c': 'cat', 'd': 'dog'}"
      ]
     },
     "execution_count": 3,
     "metadata": {},
     "output_type": "execute_result"
    }
   ],
   "source": [
    "d={'a':'apple','b':'ball','c':'cat'}\n",
    "d['d']='dog'\n",
    "d"
   ]
  },
  {
   "cell_type": "code",
   "execution_count": 4,
   "id": "26a7db95",
   "metadata": {},
   "outputs": [
    {
     "data": {
      "text/plain": [
       "{'a': 'apple', 'b': 'bat', 'c': 'cat', 'd': 'dog'}"
      ]
     },
     "execution_count": 4,
     "metadata": {},
     "output_type": "execute_result"
    }
   ],
   "source": [
    "d={}\n",
    "d['a']='apple'\n",
    "d['b']='bat'\n",
    "d['c']='cat'\n",
    "d['d']='dog'\n",
    "d"
   ]
  },
  {
   "cell_type": "code",
   "execution_count": 1,
   "id": "954e4645",
   "metadata": {},
   "outputs": [
    {
     "data": {
      "text/plain": [
       "'C:\\\\Users\\\\ravii\\\\Untitled Folder'"
      ]
     },
     "execution_count": 1,
     "metadata": {},
     "output_type": "execute_result"
    }
   ],
   "source": [
    "pwd\n"
   ]
  },
  {
   "cell_type": "code",
   "execution_count": 6,
   "id": "9fab9383",
   "metadata": {},
   "outputs": [
    {
     "name": "stdout",
     "output_type": "stream",
     "text": [
      "enter n= 2\n",
      "enter name = ram\n",
      "enter phone= 8976865\n",
      "enter name = shyam\n",
      "enter phone= 8674\n",
      "{'ram': '8976865', 'shyam': '8674'}\n"
     ]
    }
   ],
   "source": [
    "d={}\n",
    "n=int(input(\"enter n= \"))\n",
    "for i in range(n):\n",
    "    name=input(\"enter name = \")\n",
    "    phone=input(\"enter phone= \")\n",
    "    d[name]= phone\n",
    "print(d)"
   ]
  },
  {
   "cell_type": "code",
   "execution_count": 7,
   "id": "b92fa728",
   "metadata": {},
   "outputs": [
    {
     "name": "stdout",
     "output_type": "stream",
     "text": [
      "ram\n",
      "shyam\n"
     ]
    }
   ],
   "source": [
    "for i in d:\n",
    "    print(i)"
   ]
  },
  {
   "cell_type": "code",
   "execution_count": 8,
   "id": "f8b2551c",
   "metadata": {},
   "outputs": [
    {
     "name": "stdout",
     "output_type": "stream",
     "text": [
      "8976865\n",
      "8674\n"
     ]
    }
   ],
   "source": [
    "for i in d.values():\n",
    "    print(i)"
   ]
  },
  {
   "cell_type": "code",
   "execution_count": 9,
   "id": "d1cf17e5",
   "metadata": {},
   "outputs": [
    {
     "name": "stdout",
     "output_type": "stream",
     "text": [
      "('ram', '8976865')\n",
      "('shyam', '8674')\n"
     ]
    }
   ],
   "source": [
    "for i in d.items():\n",
    "    print(i)"
   ]
  },
  {
   "cell_type": "code",
   "execution_count": 11,
   "id": "b4e6a4fb",
   "metadata": {},
   "outputs": [
    {
     "data": {
      "text/plain": [
       "[('ram', '8976865'), ('shyam', '8674')]"
      ]
     },
     "execution_count": 11,
     "metadata": {},
     "output_type": "execute_result"
    }
   ],
   "source": [
    "x=[]\n",
    "d={'ram': '8976865', 'shyam': '8674'}\n",
    "for i in d.items():\n",
    "    x.append(i)\n",
    "x\n",
    "    \n",
    "    "
   ]
  },
  {
   "cell_type": "code",
   "execution_count": 12,
   "id": "d25551c0",
   "metadata": {},
   "outputs": [
    {
     "data": {
      "text/plain": [
       "{'ram': '8976865', 'shyam': '8674'}"
      ]
     },
     "execution_count": 12,
     "metadata": {},
     "output_type": "execute_result"
    }
   ],
   "source": [
    "dict(x)"
   ]
  },
  {
   "cell_type": "code",
   "execution_count": 13,
   "id": "374580b8",
   "metadata": {},
   "outputs": [
    {
     "data": {
      "text/plain": [
       "{'ram': '8976865', 'shyam': '8674', 'hari': '98674'}"
      ]
     },
     "execution_count": 13,
     "metadata": {},
     "output_type": "execute_result"
    }
   ],
   "source": [
    "d={'ram': '8976865', 'shyam': '8674'}\n",
    "c={'hari':'98674'}\n",
    "d.update(c)\n",
    "d"
   ]
  },
  {
   "cell_type": "code",
   "execution_count": 14,
   "id": "48009ca6",
   "metadata": {},
   "outputs": [
    {
     "data": {
      "text/plain": [
       "{'ram,shyam': '8976865', 1: '8674'}"
      ]
     },
     "execution_count": 14,
     "metadata": {},
     "output_type": "execute_result"
    }
   ],
   "source": [
    "d={('ram,shyam'): '8976865', 1: '8674'}\n",
    "d"
   ]
  },
  {
   "cell_type": "code",
   "execution_count": 16,
   "id": "3ce6c21a",
   "metadata": {},
   "outputs": [
    {
     "data": {
      "text/plain": [
       "'9880431488'"
      ]
     },
     "execution_count": 16,
     "metadata": {},
     "output_type": "execute_result"
    }
   ],
   "source": [
    "d={('ram','shyam'): '9880431488', 1: '9880431488'}\n",
    "d[('ram','shyam')]"
   ]
  },
  {
   "cell_type": "code",
   "execution_count": 18,
   "id": "20ceb94d",
   "metadata": {},
   "outputs": [
    {
     "name": "stdout",
     "output_type": "stream",
     "text": [
      "{'shyam': '8674', 'hari': '9819615996'}\n"
     ]
    }
   ],
   "source": [
    "#del pop()\n",
    "d={'ram': '8976865', 'shyam': '8674','hari':'9819615996'}\n",
    "del d['ram']\n",
    "print(d)"
   ]
  },
  {
   "cell_type": "code",
   "execution_count": 19,
   "id": "3f1e384c",
   "metadata": {},
   "outputs": [
    {
     "data": {
      "text/plain": [
       "{'shyam': '8674', 'hari': '9819615996'}"
      ]
     },
     "execution_count": 19,
     "metadata": {},
     "output_type": "execute_result"
    }
   ],
   "source": [
    "d={'ram': '8976865', 'shyam': '8674','hari':'9819615996'}\n",
    "d.pop('ram')\n",
    "d"
   ]
  },
  {
   "cell_type": "code",
   "execution_count": 20,
   "id": "63fa9daf",
   "metadata": {},
   "outputs": [
    {
     "data": {
      "text/plain": [
       "{}"
      ]
     },
     "execution_count": 20,
     "metadata": {},
     "output_type": "execute_result"
    }
   ],
   "source": [
    "d={'ram': '8976865', 'shyam': '8674','hari':'9819615996'}\n",
    "d.clear()\n",
    "d"
   ]
  },
  {
   "cell_type": "code",
   "execution_count": 21,
   "id": "b2ad72be",
   "metadata": {},
   "outputs": [
    {
     "data": {
      "text/plain": [
       "{'ram': ['8976865', '9800701000'], 'shyam': '8674', 'hari': '9819615996'}"
      ]
     },
     "execution_count": 21,
     "metadata": {},
     "output_type": "execute_result"
    }
   ],
   "source": [
    "d={'ram': ['8976865','9800701000'], 'shyam': '8674','hari':'9819615996'}\n",
    "d"
   ]
  },
  {
   "cell_type": "code",
   "execution_count": 23,
   "id": "ae4d599b",
   "metadata": {},
   "outputs": [
    {
     "name": "stdout",
     "output_type": "stream",
     "text": [
      "{'ram': [988098798, 9800302000], 'shyam': [9812349898, 981234567], 'hari': [9812347878, 9834982983]}\n"
     ]
    }
   ],
   "source": [
    "#list inside dictionary\n",
    "d={'ram':[988098798,9800302000],\n",
    "   'shyam':[9812349898,981234567],\n",
    "   'hari':[9812347878,9834982983]}\n",
    "print(d)"
   ]
  },
  {
   "cell_type": "code",
   "execution_count": 24,
   "id": "20d90d92",
   "metadata": {},
   "outputs": [
    {
     "name": "stdout",
     "output_type": "stream",
     "text": [
      "[988098798, 9800302000]\n",
      "988098798\n"
     ]
    }
   ],
   "source": [
    "print(d['ram'])\n",
    "print(d['ram'][0])"
   ]
  },
  {
   "cell_type": "code",
   "execution_count": 25,
   "id": "b4e8ee72",
   "metadata": {},
   "outputs": [
    {
     "name": "stdout",
     "output_type": "stream",
     "text": [
      "enter n= 2\n",
      "enter name= ram\n",
      "enter ntc_phn= 9880440876\n",
      "enter ncell_phn= 9819615996\n",
      "enter name= hari\n",
      "enter ntc_phn= 9844087286\n",
      "enter ncell_phn= 9819086763\n",
      "{'ram': [9880440876, 9819615996], 'hari': [9844087286, 9819086763]}\n"
     ]
    }
   ],
   "source": [
    "d={}\n",
    "n=int(input(\"enter n= \"))\n",
    "for i in range(n):\n",
    "    name=input(\"enter name= \")\n",
    "    ntc_phn=int(input(\"enter ntc_phn= \"))\n",
    "    ncell_phn=int(input(\"enter ncell_phn= \"))\n",
    "    d[name]=[ntc_phn,ncell_phn]\n",
    "print(d)"
   ]
  },
  {
   "cell_type": "code",
   "execution_count": 26,
   "id": "8233d557",
   "metadata": {},
   "outputs": [
    {
     "name": "stdout",
     "output_type": "stream",
     "text": [
      "('ram', [9880440876, 9819615996])\n",
      "('hari', [9844087286, 9819086763])\n"
     ]
    }
   ],
   "source": [
    "a={'ram': [9880440876, 9819615996], 'hari': [9844087286, 9819086763]}\n",
    "for i in a.items():\n",
    "    print(i)"
   ]
  },
  {
   "cell_type": "code",
   "execution_count": 28,
   "id": "34a3aef4",
   "metadata": {},
   "outputs": [
    {
     "data": {
      "text/plain": [
       "{'ram': [9880440876, 9819615996],\n",
       " 'hari': [9844087286, 9819086763],\n",
       " 'om': [985408978625, 94186765]}"
      ]
     },
     "execution_count": 28,
     "metadata": {},
     "output_type": "execute_result"
    }
   ],
   "source": [
    "a={'ram': [9880440876, 9819615996], 'hari': [9844087286, 9819086763]}\n",
    "a['om']=[985408978625,94186765]\n",
    "a"
   ]
  },
  {
   "cell_type": "code",
   "execution_count": 29,
   "id": "667dd394",
   "metadata": {},
   "outputs": [
    {
     "data": {
      "text/plain": [
       "9880440876"
      ]
     },
     "execution_count": 29,
     "metadata": {},
     "output_type": "execute_result"
    }
   ],
   "source": [
    "a={'ram': [9880440876, 9819615996], 'hari': [9844087286, 9819086763]}\n",
    "a['ram'][0]"
   ]
  },
  {
   "cell_type": "code",
   "execution_count": 30,
   "id": "49fec9e8",
   "metadata": {},
   "outputs": [
    {
     "data": {
      "text/plain": [
       "{'ram': [90090898, 9819615996], 'hari': [9844087286, 9819086763]}"
      ]
     },
     "execution_count": 30,
     "metadata": {},
     "output_type": "execute_result"
    }
   ],
   "source": [
    "a={'ram': [9880440876, 9819615996], 'hari': [9844087286, 9819086763]}\n",
    "a['ram'][0]=90090898\n",
    "a"
   ]
  },
  {
   "cell_type": "code",
   "execution_count": 31,
   "id": "0ad263a6",
   "metadata": {},
   "outputs": [
    {
     "data": {
      "text/plain": [
       "{'ram': [9880440876, 9819615996, 989826837], 'hari': [9844087286, 9819086763]}"
      ]
     },
     "execution_count": 31,
     "metadata": {},
     "output_type": "execute_result"
    }
   ],
   "source": [
    "a={'ram': [9880440876, 9819615996], 'hari': [9844087286, 9819086763]}\n",
    "a['ram'].append(989826837)\n",
    "a"
   ]
  },
  {
   "cell_type": "code",
   "execution_count": 33,
   "id": "5c888ecb",
   "metadata": {},
   "outputs": [
    {
     "data": {
      "text/plain": [
       "{'ram': [9819615996, 989826837], 'hari': [9844087286, 9819086763]}"
      ]
     },
     "execution_count": 33,
     "metadata": {},
     "output_type": "execute_result"
    }
   ],
   "source": [
    "a={'ram': [9880440876, 9819615996, 989826837], 'hari': [9844087286, 9819086763]}\n",
    "del a['ram'][0]\n",
    "a"
   ]
  },
  {
   "cell_type": "code",
   "execution_count": null,
   "id": "8903609b",
   "metadata": {},
   "outputs": [],
   "source": [
    "#a={'name':[],'age':[],'add':[]}"
   ]
  },
  {
   "cell_type": "code",
   "execution_count": 39,
   "id": "28ba42c4",
   "metadata": {},
   "outputs": [
    {
     "name": "stdout",
     "output_type": "stream",
     "text": [
      "enter n= 3\n",
      "enter name= ram\n",
      "enter age= 20\n",
      "enter add= ktm\n",
      "enter name= raghav\n",
      "enter age= 23\n",
      "enter add= balkhu\n",
      "enter name= mahes\n",
      "enter age= 20\n",
      "enter add= balkumari\n"
     ]
    },
    {
     "data": {
      "text/plain": [
       "{'name': ['ram', 'raghav', 'mahes'],\n",
       " 'age': [20, 23, 20],\n",
       " 'address': ['ktm', 'balkhu', 'balkumari']}"
      ]
     },
     "execution_count": 39,
     "metadata": {},
     "output_type": "execute_result"
    }
   ],
   "source": [
    "#a={'name':[],'age':[],'add':[]}\n",
    "name=[]\n",
    "age=[]\n",
    "add=[]\n",
    "n=int(input(\"enter n= \"))\n",
    "for i in range(n):\n",
    "    na=input(\"enter name= \")\n",
    "    ag=int(input(\"enter age= \"))\n",
    "    ad=input(\"enter add= \")\n",
    "    name.append(na)\n",
    "    age.append(ag)\n",
    "    add.append(ad)\n",
    "    \n",
    "a={'name':name,'age':age,'address':add}\n",
    "a"
   ]
  },
  {
   "cell_type": "code",
   "execution_count": null,
   "id": "da3af3eb",
   "metadata": {},
   "outputs": [],
   "source": []
  }
 ],
 "metadata": {
  "kernelspec": {
   "display_name": "Python 3",
   "language": "python",
   "name": "python3"
  },
  "language_info": {
   "codemirror_mode": {
    "name": "ipython",
    "version": 3
   },
   "file_extension": ".py",
   "mimetype": "text/x-python",
   "name": "python",
   "nbconvert_exporter": "python",
   "pygments_lexer": "ipython3",
   "version": "3.8.8"
  }
 },
 "nbformat": 4,
 "nbformat_minor": 5
}
