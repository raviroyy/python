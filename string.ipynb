{
 "cells": [
  {
   "cell_type": "code",
   "execution_count": 2,
   "id": "b692e9de",
   "metadata": {},
   "outputs": [
    {
     "name": "stdout",
     "output_type": "stream",
     "text": [
      "<class 'str'>\n",
      "<class 'str'>\n",
      "<class 'str'>\n"
     ]
    }
   ],
   "source": [
    "#string\n",
    "a='string'\n",
    "b=\"string\"\n",
    "c='''string'''\n",
    "print(type(a))\n",
    "print(type(b))\n",
    "print(type(c))"
   ]
  },
  {
   "cell_type": "code",
   "execution_count": 3,
   "id": "6c504e95",
   "metadata": {},
   "outputs": [
    {
     "name": "stdout",
     "output_type": "stream",
     "text": [
      "<class 'str'>\n"
     ]
    }
   ],
   "source": [
    "a='10'\n",
    "print(type(a))"
   ]
  },
  {
   "cell_type": "code",
   "execution_count": 4,
   "id": "dac8023a",
   "metadata": {},
   "outputs": [
    {
     "name": "stdout",
     "output_type": "stream",
     "text": [
      "enter a= 1\n",
      "<class 'str'>\n"
     ]
    }
   ],
   "source": [
    "a=input(\"enter a= \")\n",
    "print(type(a))"
   ]
  },
  {
   "cell_type": "code",
   "execution_count": 6,
   "id": "378142c2",
   "metadata": {},
   "outputs": [
    {
     "name": "stdout",
     "output_type": "stream",
     "text": [
      "enter value of a= ram\n",
      "enter value of b= shyam\n",
      "enter value of c= hari\n",
      "<class 'str'>\n"
     ]
    }
   ],
   "source": [
    "a=input(\"enter value of a= \")\n",
    "b=input(\"enter value of b= \")\n",
    "c=input(\"enter value of c= \")\n",
    "d=a+b+c\n",
    "print(type(d))"
   ]
  },
  {
   "cell_type": "code",
   "execution_count": 9,
   "id": "675d45a5",
   "metadata": {},
   "outputs": [
    {
     "name": "stdout",
     "output_type": "stream",
     "text": [
      "hello peter\n",
      "hello peter\n",
      "\n"
     ]
    }
   ],
   "source": [
    "a=\"hello peter\\n\"\n",
    "b=a*2\n",
    "print(b)"
   ]
  },
  {
   "cell_type": "code",
   "execution_count": 10,
   "id": "294639f6",
   "metadata": {},
   "outputs": [
    {
     "name": "stdout",
     "output_type": "stream",
     "text": [
      "hello world iamram.iam fromktm.iam34\n"
     ]
    }
   ],
   "source": [
    "#string formatting\n",
    "name=\"ram\"\n",
    "age=34\n",
    "add=\"ktm\"\n",
    "info= f\"hello world iam {name}.iam from {add}.iam {age}\"\n",
    "print(info)"
   ]
  },
  {
   "cell_type": "code",
   "execution_count": 14,
   "id": "78d568c6",
   "metadata": {},
   "outputs": [
    {
     "name": "stdout",
     "output_type": "stream",
     "text": [
      "enter value of n= 2\n",
      "enter product name= coke\n",
      "enter price= 2\n",
      "enter quantity= 2\n",
      "enter product name= momo\n",
      "enter price= 4\n",
      "enter quantity= 2\n",
      " coke 2 2 4\n",
      "momo 4 2 8\n",
      "\n"
     ]
    }
   ],
   "source": [
    "bill=\" \"\n",
    "n=int(input(\"enter value of n= \"))\n",
    "for i in range (n):\n",
    "    product=input(\"enter product name= \")\n",
    "    price=int(input(\"enter price= \"))\n",
    "    quantity=int(input(\"enter quantity= \"))\n",
    "    total=price*quantity\n",
    "    info=f\"{product} {price} {quantity} {total}\\n\"\n",
    "    bill=bill+info\n",
    "    \n",
    "print(bill)"
   ]
  },
  {
   "cell_type": "code",
   "execution_count": 16,
   "id": "77d6a16c",
   "metadata": {},
   "outputs": [
    {
     "name": "stdout",
     "output_type": "stream",
     "text": [
      "hello\n"
     ]
    }
   ],
   "source": [
    "#slicing\n",
    "a=\"hello peter iam dr octopus\"\n",
    "print(a[0:5])"
   ]
  },
  {
   "cell_type": "code",
   "execution_count": 18,
   "id": "b84ff338",
   "metadata": {},
   "outputs": [
    {
     "name": "stdout",
     "output_type": "stream",
     "text": [
      "hello\n",
      " peter iam strange\n"
     ]
    }
   ],
   "source": [
    "a=\"hello peter iam strange\"\n",
    "b=a[0:5]\n",
    "c=a[5:]\n",
    "print(b)\n",
    "print(c)"
   ]
  },
  {
   "cell_type": "code",
   "execution_count": 22,
   "id": "7d557209",
   "metadata": {},
   "outputs": [
    {
     "name": "stdout",
     "output_type": "stream",
     "text": [
      "peter\n"
     ]
    }
   ],
   "source": [
    "a=\"peter\"\n",
    "b=a[0:10]\n",
    "print(b)"
   ]
  },
  {
   "cell_type": "code",
   "execution_count": 24,
   "id": "35f3b771",
   "metadata": {},
   "outputs": [
    {
     "data": {
      "text/plain": [
       "'pto'"
      ]
     },
     "execution_count": 24,
     "metadata": {},
     "output_type": "execute_result"
    }
   ],
   "source": [
    "a=\"python\"\n",
    "a[0:10:2]"
   ]
  },
  {
   "cell_type": "code",
   "execution_count": 25,
   "id": "85647e49",
   "metadata": {},
   "outputs": [
    {
     "data": {
      "text/plain": [
       "'retep'"
      ]
     },
     "execution_count": 25,
     "metadata": {},
     "output_type": "execute_result"
    }
   ],
   "source": [
    "a=\"peter\"\n",
    "a[::-1]"
   ]
  },
  {
   "cell_type": "code",
   "execution_count": 31,
   "id": "8125ddb6",
   "metadata": {},
   "outputs": [
    {
     "name": "stdout",
     "output_type": "stream",
     "text": [
      "enter search= ram\n",
      "yes\n",
      "1\n"
     ]
    }
   ],
   "source": [
    "#search\n",
    "a=\"ram shyam sita geeta nabin shyam\".upper()\n",
    "search=input(\"enter search= \").upper()\n",
    "if search in a:\n",
    "    print(\"yes\")\n",
    "    print(a.count(search))\n"
   ]
  },
  {
   "cell_type": "code",
   "execution_count": 29,
   "id": "451f2415",
   "metadata": {},
   "outputs": [
    {
     "name": "stdout",
     "output_type": "stream",
     "text": [
      "RAM SHYAM SITA GEETA NABIN SHYAM\n"
     ]
    }
   ],
   "source": [
    "a=\"ram shyam sita geeta nabin shyam\"\n",
    "print(a.upper())"
   ]
  },
  {
   "cell_type": "code",
   "execution_count": 2,
   "id": "b6190120",
   "metadata": {},
   "outputs": [
    {
     "name": "stdout",
     "output_type": "stream",
     "text": [
      "ram shyam sita geeta nabin shyam\n",
      "hem  shyam sita geeta nabin shyam\n"
     ]
    }
   ],
   "source": [
    "a=\"ram shyam sita geeta nabin shyam\"\n",
    "b=a.replace('ram','hem ')\n",
    "print(a)\n",
    "print(b)"
   ]
  },
  {
   "cell_type": "code",
   "execution_count": 46,
   "id": "6b4aa84a",
   "metadata": {},
   "outputs": [
    {
     "data": {
      "text/plain": [
       "['ram', 'shyam', 'sita', 'geeta', 'nabin', 'shyam']"
      ]
     },
     "execution_count": 46,
     "metadata": {},
     "output_type": "execute_result"
    }
   ],
   "source": [
    "a=\"ram shyam sita geeta nabin shyam \"\n",
    "a.split()"
   ]
  },
  {
   "cell_type": "code",
   "execution_count": 45,
   "id": "87569064",
   "metadata": {},
   "outputs": [
    {
     "name": "stdout",
     "output_type": "stream",
     "text": [
      "ram shyam sita geeta nabin shyam \n"
     ]
    }
   ],
   "source": [
    "a=\"ram shyam sita geeta nabin shyam \"\n",
    "print(a)"
   ]
  },
  {
   "cell_type": "code",
   "execution_count": 3,
   "id": "48160c9f",
   "metadata": {},
   "outputs": [
    {
     "name": "stdout",
     "output_type": "stream",
     "text": [
      "enter the value of n= 2\n",
      "enter the name of product= coke\n",
      "enter the quantity= 2\n",
      "enter the price= 75\n",
      "enter the name of product= momo\n",
      "enter the quantity= 2\n",
      "enter the price= 150\n",
      "coke 2 75 150\n",
      "momo 2 150 300\n",
      "\n"
     ]
    }
   ],
   "source": [
    "#bill\n",
    "bill=\"\"\n",
    "n=int(input(\"enter the value of n= \"))\n",
    "for i in range (n):\n",
    "    product=input(\"enter the name of product= \")\n",
    "    quantity=int(input(\"enter the quantity= \"))\n",
    "    price=int(input(\"enter the price= \"))\n",
    "    total=quantity*price\n",
    "    info=f\"{product} {quanitity} {price} {total}\\n\"\n",
    "    bill=bill+info\n",
    "print(bill)\n",
    "    "
   ]
  },
  {
   "cell_type": "code",
   "execution_count": 4,
   "id": "6b54f13a",
   "metadata": {},
   "outputs": [
    {
     "name": "stdout",
     "output_type": "stream",
     "text": [
      "enter search= ram\n",
      "yes \n",
      "2\n"
     ]
    }
   ],
   "source": [
    "a=\"hari shyam sita ram ram\"\n",
    "search=input(\"enter search= \")\n",
    "if search in a:\n",
    "    print(\"yes \")\n",
    "    print(a.count(search))"
   ]
  },
  {
   "cell_type": "code",
   "execution_count": 19,
   "id": "51e28a1c",
   "metadata": {},
   "outputs": [
    {
     "name": "stdout",
     "output_type": "stream",
     "text": [
      "hari shyam sita    \n"
     ]
    }
   ],
   "source": [
    "a=\"hari shyam sita ram ram\"\n",
    "b=a.replace('ram',' ')\n",
    "print(b)"
   ]
  },
  {
   "cell_type": "code",
   "execution_count": 9,
   "id": "98a79c54",
   "metadata": {},
   "outputs": [
    {
     "data": {
      "text/plain": [
       "['hari', 'shyam', 'sita', 'ram', 'ram']"
      ]
     },
     "execution_count": 9,
     "metadata": {},
     "output_type": "execute_result"
    }
   ],
   "source": [
    "a=\"hari shyam sita ram ram\"\n",
    "a.split()\n"
   ]
  },
  {
   "cell_type": "code",
   "execution_count": 16,
   "id": "2f4dccab",
   "metadata": {},
   "outputs": [
    {
     "name": "stdout",
     "output_type": "stream",
     "text": [
      "dad ruoy mai retep olleh\n"
     ]
    }
   ],
   "source": [
    "a=\"hello peter iam your dad\"\n",
    "b=a[::-1]\n",
    "print(b)"
   ]
  },
  {
   "cell_type": "code",
   "execution_count": 18,
   "id": "3d56c9b2",
   "metadata": {},
   "outputs": [
    {
     "name": "stdout",
     "output_type": "stream",
     "text": [
      "hloptrimyu a\n"
     ]
    }
   ],
   "source": [
    "a=\"hello peter iam your dad\"\n",
    "b=a[0:100:2]\n",
    "print(b)"
   ]
  },
  {
   "cell_type": "code",
   "execution_count": 2,
   "id": "74064949",
   "metadata": {},
   "outputs": [
    {
     "data": {
      "text/plain": [
       "['h', 'e', 'l', 'o', ' ', 'p', 'e', 't', 'e', 'r']"
      ]
     },
     "execution_count": 2,
     "metadata": {},
     "output_type": "execute_result"
    }
   ],
   "source": [
    "a=\"helo peter\"\n",
    "b=list(a)\n",
    "b"
   ]
  },
  {
   "cell_type": "code",
   "execution_count": 8,
   "id": "9314ada1",
   "metadata": {},
   "outputs": [
    {
     "name": "stdout",
     "output_type": "stream",
     "text": [
      "enter value of n= 2\n",
      "enter y for more billy\n",
      "enter product name= coke\n",
      "enter price= 200\n",
      "enter quantity= 2\n",
      "enter y for more billy\n",
      "enter product name= momo\n",
      "enter price= 150\n",
      "enter quantity= 2\n",
      " coke 200 2 400\n",
      "momo 150 2 300\n",
      "\n"
     ]
    }
   ],
   "source": [
    "bill=\" \"\n",
    "\n",
    "n=int(input(\"enter value of n= \"))\n",
    "def billing():\n",
    "    global bill\n",
    "    product=input(\"enter product name= \")\n",
    "    price=int(input(\"enter price= \"))\n",
    "    quantity=int(input(\"enter quantity= \"))\n",
    "    total=price*quantity\n",
    "    info=f\"{product} {price} {quantity} {total}\\n\"\n",
    "    bill=bill+info\n",
    "for i in range(n):\n",
    "    x=input(\"enter y for more bill\")\n",
    "    x=='y'\n",
    "    billing()\n",
    "print(bill)"
   ]
  },
  {
   "cell_type": "code",
   "execution_count": null,
   "id": "76e2b2b3",
   "metadata": {},
   "outputs": [
    {
     "name": "stdout",
     "output_type": "stream",
     "text": [
      "enter value of n= 2\n",
      "enter product name= coke\n",
      "enter price= 20\n",
      "enter quantity= 2\n"
     ]
    }
   ],
   "source": [
    "bill=\"\"\n",
    "grand_total=0\n",
    "\n",
    "n=int(input(\"enter value of n= \"))\n",
    "def billing(product,price,quantity,total):\n",
    "    global bill,grand_total\n",
    "    info=f\"{product} {price} {quantity} {total}\\n\"\n",
    "    bill=bill+info\n",
    "    grand_total=grand_total+total\n",
    "    \n",
    "for i in range(n):\n",
    "    product=input(\"enter product name= \")\n",
    "    price=int(input(\"enter price= \"))\n",
    "    quantity=int(input(\"enter quantity= \"))\n",
    "    total=price*quantity\n",
    "    billing(product,price,quantity,total)\n",
    "    \n",
    "print(bill)\n",
    "print(grand_total)\n",
    "    \n",
    "    "
   ]
  },
  {
   "cell_type": "code",
   "execution_count": null,
   "id": "6f01c6cd",
   "metadata": {},
   "outputs": [],
   "source": []
  }
 ],
 "metadata": {
  "kernelspec": {
   "display_name": "Python 3",
   "language": "python",
   "name": "python3"
  },
  "language_info": {
   "codemirror_mode": {
    "name": "ipython",
    "version": 3
   },
   "file_extension": ".py",
   "mimetype": "text/x-python",
   "name": "python",
   "nbconvert_exporter": "python",
   "pygments_lexer": "ipython3",
   "version": "3.8.8"
  }
 },
 "nbformat": 4,
 "nbformat_minor": 5
}
