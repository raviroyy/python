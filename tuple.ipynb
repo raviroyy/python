{
 "cells": [
  {
   "cell_type": "code",
   "execution_count": null,
   "id": "27a84460",
   "metadata": {},
   "outputs": [],
   "source": [
    "#tuple\n"
   ]
  },
  {
   "cell_type": "code",
   "execution_count": null,
   "id": "75427d70",
   "metadata": {},
   "outputs": [],
   "source": [
    "#tuple\n",
    "#-indexed\n",
    "#-ordered\n",
    "#-multiple values\n",
    "#-imutable\n",
    "-"
   ]
  },
  {
   "cell_type": "code",
   "execution_count": 1,
   "id": "e31811f3",
   "metadata": {},
   "outputs": [
    {
     "name": "stdout",
     "output_type": "stream",
     "text": [
      "(1, 2, 3, 4, 5)\n",
      "('apple', 'ball', 'cat', 'dog')\n",
      "<class 'tuple'>\n",
      "<class 'tuple'>\n"
     ]
    }
   ],
   "source": [
    "a=(1,2,3,4,5)\n",
    "b=(\"apple\",\"ball\",\"cat\",\"dog\")\n",
    "print(a)\n",
    "print(b)\n",
    "\n",
    "print(type(a))\n",
    "print(type(b))"
   ]
  },
  {
   "cell_type": "code",
   "execution_count": 3,
   "id": "cb6aa925",
   "metadata": {},
   "outputs": [
    {
     "name": "stdout",
     "output_type": "stream",
     "text": [
      "apple\n",
      "3\n"
     ]
    }
   ],
   "source": [
    "print(b[0])\n",
    "print(a[2])"
   ]
  },
  {
   "cell_type": "code",
   "execution_count": 7,
   "id": "f787f58b",
   "metadata": {},
   "outputs": [
    {
     "name": "stdout",
     "output_type": "stream",
     "text": [
      "(1, 2, 3, 4, 5, 'apple', 'ball', 'cat', 'dog')\n"
     ]
    }
   ],
   "source": [
    "a=(1,2,3,4,5)\n",
    "b=(\"apple\",\"ball\",\"cat\",\"dog\")\n",
    "c=a+b\n",
    "print(c)"
   ]
  },
  {
   "cell_type": "code",
   "execution_count": 8,
   "id": "5148bce3",
   "metadata": {},
   "outputs": [
    {
     "data": {
      "text/plain": [
       "('apple', 'ball')"
      ]
     },
     "execution_count": 8,
     "metadata": {},
     "output_type": "execute_result"
    }
   ],
   "source": [
    "a=tuple()\n",
    "#a=()\n",
    "a=a+(\"apple\",)\n",
    "a=a+(\"ball\",)\n",
    "a"
   ]
  },
  {
   "cell_type": "code",
   "execution_count": 10,
   "id": "3ed8d191",
   "metadata": {},
   "outputs": [
    {
     "data": {
      "text/plain": [
       "tuple"
      ]
     },
     "execution_count": 10,
     "metadata": {},
     "output_type": "execute_result"
    }
   ],
   "source": [
    "a=(\"hari\",)\n",
    "type(a)"
   ]
  },
  {
   "cell_type": "code",
   "execution_count": 12,
   "id": "37bfaa47",
   "metadata": {},
   "outputs": [
    {
     "name": "stdout",
     "output_type": "stream",
     "text": [
      "enter n= 5\n",
      "enter x= 11\n",
      "enter x= 22\n",
      "enter x= 33\n",
      "enter x= 44\n",
      "enter x= 55\n",
      "(11, 22, 33, 44, 55)\n"
     ]
    }
   ],
   "source": [
    "t=()\n",
    "n=int(input(\"enter n= \"))\n",
    "for i in range(n):\n",
    "    x=int(input(\"enter x= \"))\n",
    "    t=t+(x,)\n",
    "print(t)"
   ]
  },
  {
   "cell_type": "code",
   "execution_count": null,
   "id": "a051f973",
   "metadata": {},
   "outputs": [],
   "source": [
    "#No append() extend() insert()\n",
    "#no del() pop() remove()\n",
    "#no update\n",
    "#no sort()"
   ]
  },
  {
   "cell_type": "code",
   "execution_count": null,
   "id": "bfa891aa",
   "metadata": {},
   "outputs": [],
   "source": [
    "##No append() extend() insert()\n",
    "#no del() pop() remove()\n",
    "#no update\n",
    "#no sort()\n",
    "#in order to change any thing inside the tuple you must convert tuple into list and then perform the action\n",
    "#example below"
   ]
  },
  {
   "cell_type": "code",
   "execution_count": 15,
   "id": "6fcd98f5",
   "metadata": {},
   "outputs": [
    {
     "data": {
      "text/plain": [
       "(22, 33, 44, 55)"
      ]
     },
     "execution_count": 15,
     "metadata": {},
     "output_type": "execute_result"
    }
   ],
   "source": [
    "a=(11, 22, 33, 44, 55)\n",
    "a=list(a)\n",
    "del a[0]\n",
    "a=tuple(a)\n",
    "a"
   ]
  },
  {
   "cell_type": "code",
   "execution_count": 16,
   "id": "a1d36840",
   "metadata": {},
   "outputs": [
    {
     "name": "stdout",
     "output_type": "stream",
     "text": [
      "(11, 22, 33, 44, 55, 11, 22, 33, 44, 55)\n"
     ]
    }
   ],
   "source": [
    "a=(11, 22, 33, 44, 55)\n",
    "print(a*2)"
   ]
  },
  {
   "cell_type": "code",
   "execution_count": 19,
   "id": "51c1e382",
   "metadata": {},
   "outputs": [
    {
     "name": "stdout",
     "output_type": "stream",
     "text": [
      "(11, 22, 33, 44, 55)\n"
     ]
    }
   ],
   "source": [
    "a=(11, 22, 33, 44, 55)\n",
    "print(a)"
   ]
  },
  {
   "cell_type": "code",
   "execution_count": null,
   "id": "b39843a3",
   "metadata": {},
   "outputs": [],
   "source": [
    "#tuple inside tuple\n",
    "a=((1,2,3),(4,5,6),(7,8,9))"
   ]
  },
  {
   "cell_type": "code",
   "execution_count": 21,
   "id": "e62b51b6",
   "metadata": {},
   "outputs": [
    {
     "name": "stdout",
     "output_type": "stream",
     "text": [
      "enter n= 3\n",
      "enter name= ram\n",
      "enter age= 20\n",
      "enter address= ktm\n",
      "enter name= shyam\n",
      "enter age= 23\n",
      "enter address= balkhu\n",
      "enter name= sonu\n",
      "enter age= 22\n",
      "enter address= balkumari\n",
      "(('ram', 20, 'ktm'), ('shyam', 23, 'balkhu'), ('sonu', 22, 'balkumari'))\n"
     ]
    }
   ],
   "source": [
    "data=()\n",
    "n=int(input(\"enter n= \"))\n",
    "for i in range(n):\n",
    "    name=input(\"enter name= \")\n",
    "    age=int(input(\"enter age= \"))\n",
    "    add=input(\"enter address= \")\n",
    "    x=(name,age,add)\n",
    "    data=data+(x,)\n",
    "    \n",
    "print(data)"
   ]
  },
  {
   "cell_type": "code",
   "execution_count": 26,
   "id": "0a05b59f",
   "metadata": {},
   "outputs": [
    {
     "ename": "AttributeError",
     "evalue": "'tuple' object has no attribute 'list'",
     "output_type": "error",
     "traceback": [
      "\u001b[1;31m---------------------------------------------------------------------------\u001b[0m",
      "\u001b[1;31mAttributeError\u001b[0m                            Traceback (most recent call last)",
      "\u001b[1;32m<ipython-input-26-4abfacd52ef2>\u001b[0m in \u001b[0;36m<module>\u001b[1;34m\u001b[0m\n\u001b[1;32m----> 1\u001b[1;33m \u001b[0mdata\u001b[0m\u001b[1;33m=\u001b[0m\u001b[0mdata\u001b[0m\u001b[1;33m.\u001b[0m\u001b[0mlist\u001b[0m\u001b[1;33m(\u001b[0m\u001b[0mdata\u001b[0m\u001b[1;33m)\u001b[0m\u001b[1;33m\u001b[0m\u001b[1;33m\u001b[0m\u001b[0m\n\u001b[0m",
      "\u001b[1;31mAttributeError\u001b[0m: 'tuple' object has no attribute 'list'"
     ]
    }
   ],
   "source": []
  },
  {
   "cell_type": "code",
   "execution_count": 23,
   "id": "cce30dfd",
   "metadata": {},
   "outputs": [
    {
     "data": {
      "text/plain": [
       "[[234, 234, '34'], ['234', 34, '234'], ['35', 234, '234']]"
      ]
     },
     "execution_count": 23,
     "metadata": {},
     "output_type": "execute_result"
    }
   ],
   "source": [
    "b=[]\n",
    "a=((234,234,'34'),('234',34,'234'),('35',234,'234'))\n",
    "for i in a:\n",
    "    b.append(list(i))\n",
    "b"
   ]
  },
  {
   "cell_type": "code",
   "execution_count": 24,
   "id": "f5f96e19",
   "metadata": {},
   "outputs": [
    {
     "data": {
      "text/plain": [
       "((234, 234, '34'), ('234', 34, '234'), ('35', 234, '234'))"
      ]
     },
     "execution_count": 24,
     "metadata": {},
     "output_type": "execute_result"
    }
   ],
   "source": [
    "b=()\n",
    "a=[[234,234,'34'],['234',34,'234'],['35',234,'234']]\n",
    "for i in a:\n",
    "    b=b+(tuple(i),)\n",
    "b"
   ]
  },
  {
   "cell_type": "code",
   "execution_count": null,
   "id": "f58d11ac",
   "metadata": {},
   "outputs": [],
   "source": []
  }
 ],
 "metadata": {
  "kernelspec": {
   "display_name": "Python 3",
   "language": "python",
   "name": "python3"
  },
  "language_info": {
   "codemirror_mode": {
    "name": "ipython",
    "version": 3
   },
   "file_extension": ".py",
   "mimetype": "text/x-python",
   "name": "python",
   "nbconvert_exporter": "python",
   "pygments_lexer": "ipython3",
   "version": "3.8.8"
  }
 },
 "nbformat": 4,
 "nbformat_minor": 5
}
